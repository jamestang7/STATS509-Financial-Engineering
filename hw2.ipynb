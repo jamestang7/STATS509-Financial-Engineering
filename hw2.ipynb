{
 "cells": [
  {
   "cell_type": "markdown",
   "id": "a1c260ca",
   "metadata": {},
   "source": [
    "# STATS 509 HW2\n",
    "### unique name: tangsw, umid:31975136\n",
    "\n",
    "# Q1\n",
    "## a \n",
    "\n",
    "\n",
    "$\\mathbb{P}(R < -V \\tilde{a}R) = q $\n",
    "\n",
    "$F(-V \\tilde{a}R) = q < 0.5$\n",
    "\n",
    "Therefore, $-V \\tilde{a}R<\\mu$ since double exponential distribution is symmetric on $\\mu$\n",
    "\n",
    "$\\frac{1}{2}exp(\\lambda(-V \\tilde{a}R-\\mu))=q$\n",
    "\n",
    "$V \\tilde{a}R = -\\mu - \\frac{ln(2q)}{\\lambda}$\n",
    "\n",
    "$VaR = V \\tilde{a}R \\times Price  = -\\mu - \\frac{ln(2q)}{\\lambda} \\times Price$\n",
    "\n",
    "## b\n",
    "\n",
    "Since $V\\tilde{a}R = -\\mu - \\frac{ln(2q)}{\\lambda}$,and q < 0; $\\lambda > 0 $ and $V\\tilde{a}R$ is strictly bigger than -$\\mu$. \n",
    "\n",
    "Loss X ~ DExp($-\\mu, \\lambda$), Relative ES = $\\frac{1}{q}\\int_{V\\tilde{a}R_q}^{\\infty}x\\frac{1}{2}\\lambda exp(-\\lambda (x+\\mu))dx$\n",
    "\n",
    "$ES = \\frac{1}{2q}exp(-\\lambda(V\\tilde{a}R+\\mu))(V\\tilde{a}R + \\frac{1}{\\lambda})$\n",
    "\n",
    "From a) we know $V \\tilde{a}R = -\\mu - \\frac{ln(2q)}{\\lambda}$, plug this is \n",
    "\n",
    "Gives us $ES = V \\tilde{a}R + \\frac{1}{\\lambda}= -\\mu - \\frac{ln(2q)}{\\lambda}+ \\frac{1}{\\lambda}$\n",
    "\n",
    "\n",
    "\n",
    "\n",
    "## c"
   ]
  },
  {
   "cell_type": "code",
   "execution_count": 1,
   "id": "35412e3b",
   "metadata": {},
   "outputs": [
    {
     "data": {
      "text/html": [
       "<table class=\"dataframe\">\n",
       "<caption>A data.frame: 6 × 7</caption>\n",
       "<thead>\n",
       "\t<tr><th></th><th scope=col>Date</th><th scope=col>Open</th><th scope=col>High</th><th scope=col>Low</th><th scope=col>Close</th><th scope=col>Adj.Close</th><th scope=col>Volume</th></tr>\n",
       "\t<tr><th></th><th scope=col>&lt;chr&gt;</th><th scope=col>&lt;dbl&gt;</th><th scope=col>&lt;dbl&gt;</th><th scope=col>&lt;dbl&gt;</th><th scope=col>&lt;dbl&gt;</th><th scope=col>&lt;dbl&gt;</th><th scope=col>&lt;dbl&gt;</th></tr>\n",
       "</thead>\n",
       "<tbody>\n",
       "\t<tr><th scope=row>1</th><td>2019-01-02</td><td>6506.91</td><td>6693.71</td><td>6506.88</td><td>6665.94</td><td>6665.94</td><td>2261800000</td></tr>\n",
       "\t<tr><th scope=row>2</th><td>2019-01-03</td><td>6584.77</td><td>6600.21</td><td>6457.13</td><td>6463.50</td><td>6463.50</td><td>2607290000</td></tr>\n",
       "\t<tr><th scope=row>3</th><td>2019-01-04</td><td>6567.14</td><td>6760.69</td><td>6554.24</td><td>6738.86</td><td>6738.86</td><td>2579550000</td></tr>\n",
       "\t<tr><th scope=row>4</th><td>2019-01-07</td><td>6757.53</td><td>6855.60</td><td>6741.40</td><td>6823.47</td><td>6823.47</td><td>2507550000</td></tr>\n",
       "\t<tr><th scope=row>5</th><td>2019-01-08</td><td>6893.44</td><td>6909.58</td><td>6795.86</td><td>6897.00</td><td>6897.00</td><td>2380290000</td></tr>\n",
       "\t<tr><th scope=row>6</th><td>2019-01-09</td><td>6923.06</td><td>6985.22</td><td>6899.56</td><td>6957.08</td><td>6957.08</td><td>2422590000</td></tr>\n",
       "</tbody>\n",
       "</table>\n"
      ],
      "text/latex": [
       "A data.frame: 6 × 7\n",
       "\\begin{tabular}{r|lllllll}\n",
       "  & Date & Open & High & Low & Close & Adj.Close & Volume\\\\\n",
       "  & <chr> & <dbl> & <dbl> & <dbl> & <dbl> & <dbl> & <dbl>\\\\\n",
       "\\hline\n",
       "\t1 & 2019-01-02 & 6506.91 & 6693.71 & 6506.88 & 6665.94 & 6665.94 & 2261800000\\\\\n",
       "\t2 & 2019-01-03 & 6584.77 & 6600.21 & 6457.13 & 6463.50 & 6463.50 & 2607290000\\\\\n",
       "\t3 & 2019-01-04 & 6567.14 & 6760.69 & 6554.24 & 6738.86 & 6738.86 & 2579550000\\\\\n",
       "\t4 & 2019-01-07 & 6757.53 & 6855.60 & 6741.40 & 6823.47 & 6823.47 & 2507550000\\\\\n",
       "\t5 & 2019-01-08 & 6893.44 & 6909.58 & 6795.86 & 6897.00 & 6897.00 & 2380290000\\\\\n",
       "\t6 & 2019-01-09 & 6923.06 & 6985.22 & 6899.56 & 6957.08 & 6957.08 & 2422590000\\\\\n",
       "\\end{tabular}\n"
      ],
      "text/markdown": [
       "\n",
       "A data.frame: 6 × 7\n",
       "\n",
       "| <!--/--> | Date &lt;chr&gt; | Open &lt;dbl&gt; | High &lt;dbl&gt; | Low &lt;dbl&gt; | Close &lt;dbl&gt; | Adj.Close &lt;dbl&gt; | Volume &lt;dbl&gt; |\n",
       "|---|---|---|---|---|---|---|---|\n",
       "| 1 | 2019-01-02 | 6506.91 | 6693.71 | 6506.88 | 6665.94 | 6665.94 | 2261800000 |\n",
       "| 2 | 2019-01-03 | 6584.77 | 6600.21 | 6457.13 | 6463.50 | 6463.50 | 2607290000 |\n",
       "| 3 | 2019-01-04 | 6567.14 | 6760.69 | 6554.24 | 6738.86 | 6738.86 | 2579550000 |\n",
       "| 4 | 2019-01-07 | 6757.53 | 6855.60 | 6741.40 | 6823.47 | 6823.47 | 2507550000 |\n",
       "| 5 | 2019-01-08 | 6893.44 | 6909.58 | 6795.86 | 6897.00 | 6897.00 | 2380290000 |\n",
       "| 6 | 2019-01-09 | 6923.06 | 6985.22 | 6899.56 | 6957.08 | 6957.08 | 2422590000 |\n",
       "\n"
      ],
      "text/plain": [
       "  Date       Open    High    Low     Close   Adj.Close Volume    \n",
       "1 2019-01-02 6506.91 6693.71 6506.88 6665.94 6665.94   2261800000\n",
       "2 2019-01-03 6584.77 6600.21 6457.13 6463.50 6463.50   2607290000\n",
       "3 2019-01-04 6567.14 6760.69 6554.24 6738.86 6738.86   2579550000\n",
       "4 2019-01-07 6757.53 6855.60 6741.40 6823.47 6823.47   2507550000\n",
       "5 2019-01-08 6893.44 6909.58 6795.86 6897.00 6897.00   2380290000\n",
       "6 2019-01-09 6923.06 6985.22 6899.56 6957.08 6957.08   2422590000"
      ]
     },
     "metadata": {},
     "output_type": "display_data"
    }
   ],
   "source": [
    "source(\"startup.R\")\n",
    "df = read.csv(\"Nasdaq_daily_Jan1_2019-Dec31_2021.csv\")\n",
    "head(df)"
   ]
  },
  {
   "cell_type": "markdown",
   "id": "8a9b7499",
   "metadata": {},
   "source": [
    "**Note the the MLE of location parameter $\\mu$ is the sample median and scale parameter $1/\\lambda$ is the sample mean deviation from the median**\n",
    "\n",
    "Source: [https://stats.stackexchange.com/questions/281682/how-to-fit-a-data-against-a-laplace-double-exponential-distribution-and-check](https://stats.stackexchange.com/questions/281682/how-to-fit-a-data-against-a-laplace-double-exponential-distribution-and-check)\n"
   ]
  },
  {
   "cell_type": "code",
   "execution_count": 2,
   "id": "cbf9b31b",
   "metadata": {},
   "outputs": [
    {
     "data": {
      "text/html": [
       "<table class=\"dataframe\">\n",
       "<caption>A data.frame: 1 × 2</caption>\n",
       "<thead>\n",
       "\t<tr><th scope=col>m</th><th scope=col>lambda</th></tr>\n",
       "\t<tr><th scope=col>&lt;dbl&gt;</th><th scope=col>&lt;dbl&gt;</th></tr>\n",
       "</thead>\n",
       "<tbody>\n",
       "\t<tr><td>0.001913407</td><td>99.42223</td></tr>\n",
       "</tbody>\n",
       "</table>\n"
      ],
      "text/latex": [
       "A data.frame: 1 × 2\n",
       "\\begin{tabular}{ll}\n",
       " m & lambda\\\\\n",
       " <dbl> & <dbl>\\\\\n",
       "\\hline\n",
       "\t 0.001913407 & 99.42223\\\\\n",
       "\\end{tabular}\n"
      ],
      "text/markdown": [
       "\n",
       "A data.frame: 1 × 2\n",
       "\n",
       "| m &lt;dbl&gt; | lambda &lt;dbl&gt; |\n",
       "|---|---|\n",
       "| 0.001913407 | 99.42223 |\n",
       "\n"
      ],
      "text/plain": [
       "  m           lambda  \n",
       "1 0.001913407 99.42223"
      ]
     },
     "metadata": {},
     "output_type": "display_data"
    }
   ],
   "source": [
    "n = length(df$Adj.Close)\n",
    "R = df$Adj.Close[-1]/df$Adj.Close[-n]-1\n",
    "m = median(R)\n",
    "data.frame(m = m, lambda = 1/mean(abs(R - m)))\n",
    "l = 1/mean(abs(R- m))"
   ]
  },
  {
   "cell_type": "markdown",
   "id": "475e395f",
   "metadata": {},
   "source": [
    "$\\hat{\\mu} = 0.001913407$, and $\\hat{\\lambda} = 99.4222$"
   ]
  },
  {
   "cell_type": "code",
   "execution_count": 3,
   "id": "1469d777",
   "metadata": {},
   "outputs": [
    {
     "name": "stdout",
     "output_type": "stream",
     "text": [
      "[1] 0.03743416\n",
      "[1] \"Relative Var is:\"   \"0.0374341607656987\"\n",
      "[1] \"Var is:\"   \"374341.61\"\n",
      "[1] \"Estimated Shortfall is:\" \"273760.48\"              \n"
     ]
    }
   ],
   "source": [
    "var_rl = -1 * qdexp(p = 0.01, mu = m, lambda = l)\n",
    "print(var_rl)\n",
    "var = 10^7 * var_rl\n",
    "print(c('Relative Var is:',var_rl))\n",
    "print(c('Var is:',round(var,2)))\n",
    "p = 0.01\n",
    "ES = 1e7*(var_rl-1/l)\n",
    "print(c(\"Estimated Shortfall is:\",round(ES,2)))"
   ]
  },
  {
   "cell_type": "markdown",
   "id": "187ea3d4",
   "metadata": {},
   "source": [
    "The probability of loss less than 374341.61 usd is 0.99. \n",
    "\n",
    "Given that a loss is occuring at or greater than \\\\$ 374341.61, the mean loss of this porfolio is \\$ 273760.48.\n",
    "## d\n",
    "\n",
    "#### using MLE estimator of $\\mu, \\sigma$\n",
    "\n",
    "$\\mu = sample mean, \\hat{\\sigma}^2 = \\frac{n}{n-1}sample variance $"
   ]
  },
  {
   "cell_type": "code",
   "execution_count": 5,
   "id": "9ef5d061",
   "metadata": {},
   "outputs": [
    {
     "name": "stdout",
     "output_type": "stream",
     "text": [
      "[1] \"mu and sigma:\"       \"0.00126080759968301\" \"0.0155792444898162\" \n",
      "[1] \"Relative VaR is :\"  \"0.0349819346983633\"\n",
      "[1] \"VaR is :\"  \"349819.35\"\n",
      "[1] 402612.2\n"
     ]
    }
   ],
   "source": [
    "m = mean(R)\n",
    "variance = var(R) * n / (n-1)\n",
    "sd = sqrt(variance)\n",
    "print(c('mu and sigma:',m,sd))\n",
    "var_rl = qnorm(p, m, sd) * -1\n",
    "print(c(\"Relative VaR is :\",var_rl))\n",
    "var = 10^7 * var_rl\n",
    "print(c(\"VaR is :\",round(var,2)))\n",
    "ES = -m + sd / p *(dnorm((qnorm(p = p, mean = 0, sd = 1)),0,1))\n",
    "print(ES*1e7)"
   ]
  },
  {
   "cell_type": "markdown",
   "id": "e3af506d",
   "metadata": {},
   "source": [
    "$\\hat{\\mu} = 0.0012608$, and $\\hat{\\sigma} = 0.015579$"
   ]
  },
  {
   "cell_type": "markdown",
   "id": "717c68e6",
   "metadata": {},
   "source": [
    "The value at risk is 349819.35 usd. It means the probability of loss less than $ 349819.35 is 0.99.\n",
    "\n",
    "The Expected shortfall is 402612.2 usd , which means given a loss at or below 349819.35, the mean loss of this portfolio is  402612.2 usd. \n",
    "\n",
    "## Try to compare the kurtosis and skewness"
   ]
  },
  {
   "cell_type": "code",
   "execution_count": 6,
   "id": "11f0bd1f",
   "metadata": {
    "scrolled": true
   },
   "outputs": [
    {
     "name": "stdout",
     "output_type": "stream",
     "text": [
      "[1] \"True Return Skewness is  -0.743521849028927\"\n",
      "[1] \"True Return Kurtosis is  11.1955040430353\"\n"
     ]
    },
    {
     "data": {
      "text/html": [
       "<table class=\"dataframe\">\n",
       "<caption>A data.frame: 3 × 2</caption>\n",
       "<thead>\n",
       "\t<tr><th></th><th scope=col>skewness</th><th scope=col>kurtosis</th></tr>\n",
       "\t<tr><th></th><th scope=col>&lt;dbl&gt;</th><th scope=col>&lt;dbl&gt;</th></tr>\n",
       "</thead>\n",
       "<tbody>\n",
       "\t<tr><th scope=row>True</th><td>-0.7435218</td><td>11.1955</td></tr>\n",
       "\t<tr><th scope=row>Normal</th><td> 0.0000000</td><td> 3.0000</td></tr>\n",
       "\t<tr><th scope=row>Double Exponential</th><td> 0.0000000</td><td> 6.0000</td></tr>\n",
       "</tbody>\n",
       "</table>\n"
      ],
      "text/latex": [
       "A data.frame: 3 × 2\n",
       "\\begin{tabular}{r|ll}\n",
       "  & skewness & kurtosis\\\\\n",
       "  & <dbl> & <dbl>\\\\\n",
       "\\hline\n",
       "\tTrue & -0.7435218 & 11.1955\\\\\n",
       "\tNormal &  0.0000000 &  3.0000\\\\\n",
       "\tDouble Exponential &  0.0000000 &  6.0000\\\\\n",
       "\\end{tabular}\n"
      ],
      "text/markdown": [
       "\n",
       "A data.frame: 3 × 2\n",
       "\n",
       "| <!--/--> | skewness &lt;dbl&gt; | kurtosis &lt;dbl&gt; |\n",
       "|---|---|---|\n",
       "| True | -0.7435218 | 11.1955 |\n",
       "| Normal |  0.0000000 |  3.0000 |\n",
       "| Double Exponential |  0.0000000 |  6.0000 |\n",
       "\n"
      ],
      "text/plain": [
       "                   skewness   kurtosis\n",
       "True               -0.7435218 11.1955 \n",
       "Normal              0.0000000  3.0000 \n",
       "Double Exponential  0.0000000  6.0000 "
      ]
     },
     "metadata": {},
     "output_type": "display_data"
    }
   ],
   "source": [
    "library(\"moments\")\n",
    "sk = skewness(R)\n",
    "kt = kurtosis(R)-3 # to excessive kurtosis\n",
    "print(paste(\"True Return Skewness is \",sk))\n",
    "print(paste(\"True Return Kurtosis is \",kt))\n",
    "sk1 = 0\n",
    "kt1 = 3\n",
    "sk2 = 0\n",
    "kt2 = 6\n",
    "data.frame(skewness = c(sk, sk1, sk2),kurtosis = c(kt,kt1,kt2),row.names = c(\"True\",\"Normal\",\"Double Exponential\"))\n"
   ]
  },
  {
   "cell_type": "markdown",
   "id": "1b070317",
   "metadata": {},
   "source": [
    "Based on the Skewness and kurtosis, Double exponential distribution is closer to the True distribution, which should provide more accurate result upon prediction."
   ]
  },
  {
   "cell_type": "markdown",
   "id": "f90afd9b",
   "metadata": {},
   "source": [
    "# Q2\n",
    "## a"
   ]
  },
  {
   "cell_type": "markdown",
   "id": "bedcbda4",
   "metadata": {},
   "source": [
    "From the prompt, we know that $F(\\mu) = 0.9$\n",
    "\n",
    "Expand the conditional probability by joint dividing marginal probability.\n",
    "\n",
    "$\\mathbb{P}(X \\leq x|X \\geq \\mu) = \\frac{\\mathbb{P}(\\mu \\leq X \\leq x)}{\\mathbb{P}(X \\geq \\mu)} = \\frac{F(x)-F(\\mu)}{1- F(\\mu)}$, where F is the c.d.f of r.v. X.\n",
    "\n",
    "This gives us \n",
    "\n",
    "$\\frac{F(x) - 0.9}{0.1} = 1 - (1+\\frac{\\xi(x-\\mu)}{\\sigma})^{-1/\\xi}, x \\geq \\mu$\n",
    "\n",
    "Solve for F(x) will give us the c.d.f of X\n",
    "\n",
    "\n",
    "F(x) = \\begin{cases}\n",
    "1 - 0.1(1+\\frac{\\xi(x-\\mu)}{\\sigma})^{-1/\\xi} & \\text{ if } x \\geq \\mu \\\\\n",
    "0.9 & \\text{ if } x < \\mu\n",
    "\\end{cases}\n",
    "\n",
    "By definition X is loss\n",
    "\n",
    "$\\mathbb{P}(X>V\\tilde{a}R) = q = 0.01$\n",
    "\n",
    "$V\\tilde{a}R =  F^{-1}(0.01) = Q(0.01)$ , where Q denotes the quantile function of F(x)\n",
    "\n",
    "$V\\tilde{a}R = \\mu + \\frac{\\sigma (10^\\xi - 1)}{\\xi}$"
   ]
  },
  {
   "cell_type": "markdown",
   "id": "c719c932",
   "metadata": {},
   "source": [
    "## b \n",
    "$ES = \\mathbb{P}(X<x|X>V\\tilde{a}R) = \\frac{F(x) - (1-q)}{q} = 1 - 10(1+\\frac{\\xi(x-\\mu)}{\\sigma})^{-1/\\xi}, x \\geq V\\tilde{a}R $\n",
    "\n",
    "This is equivalent to \n",
    "\n",
    "= $1 - (1+ \\frac{\\xi(x-\\mu+\\frac{\\sigma}{\\xi}-\\frac{10^\\xi}{\\xi})}{10^\\xi\\sigma})^{-1/\\xi}$\n",
    "\n",
    "If we let $\\sigma' = 10^{\\xi}\\sigma, \\mu' = \\mu + \\frac{10^\\xi \\sigma- \\sigma}{\\xi}$, then we can rewrite the shortfall distribution into a Generalized Pareto distribution.\n",
    "\n",
    "$F_{\\mathbf{ES}}(x) =1 - (1+\\frac{\\xi(x-\\mu')}{\\sigma'})^{-1/\\xi}, if x>\\mu'$"
   ]
  },
  {
   "cell_type": "markdown",
   "id": "ffbeed5e",
   "metadata": {},
   "source": [
    "## c\n",
    "Because ES ~ GPD($\\mu',\\sigma',\\xi$), \n",
    "\n",
    "$\\mathbb{E}(ES) = \\mu' + \\frac{\\sigma'}{1- \\xi} = \\mu + \\frac{10^\\xi \\sigma- \\sigma}{\\xi} + \\frac{10^{\\xi} \\sigma}{1- \\xi}$"
   ]
  },
  {
   "cell_type": "code",
   "execution_count": null,
   "id": "c94246a8",
   "metadata": {},
   "outputs": [],
   "source": []
  }
 ],
 "metadata": {
  "kernelspec": {
   "display_name": "R",
   "language": "R",
   "name": "ir"
  },
  "language_info": {
   "codemirror_mode": "r",
   "file_extension": ".r",
   "mimetype": "text/x-r-source",
   "name": "R",
   "pygments_lexer": "r",
   "version": "4.1.2"
  }
 },
 "nbformat": 4,
 "nbformat_minor": 5
}
